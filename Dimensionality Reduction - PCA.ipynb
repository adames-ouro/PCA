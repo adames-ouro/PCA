{
 "cells": [
  {
   "cell_type": "markdown",
   "metadata": {},
   "source": [
    "# Dimensionality Reduction\n",
    "\n",
    "### Why Dimensionality Reduction?\n",
    "\n",
    "- As the number of features increase, the model becomes more complex and prone to overfitting.\n",
    "\n",
    "- Less computational time required for training and testing models.\n",
    "\n",
    "- Removal of redundant variables or noise in data.\n",
    "\n",
    "- Improves prediction performance."
   ]
  },
  {
   "cell_type": "markdown",
   "metadata": {},
   "source": [
    "# Principal Component Analysis \n",
    "\n",
    "### Goal\n",
    "\n",
    "- To reduce dimensionality, while retaining a large part of variation present in the data.\n",
    "\n",
    "### Overview\n",
    "\n",
    "- Is an unsupervised learning method used only for continuous variables.\n",
    "\n",
    "- Assumes that variables are somewhat correlated.\n",
    "\n",
    "- Does not involves Hyperparameters.\n",
    "\n",
    "- Highly affected by outliers.\n",
    "\n",
    "- Is a nonparametric method.\n",
    "\n",
    "\n",
    "### Steps for the algortihm.\n",
    "\n",
    " Step 1: Center the data\n",
    "- Centering or standarizing data\n",
    "\n",
    " Step 2: Covariance Matrix\n",
    "- Get covariance and variance for variables\n",
    "\n",
    " Step 3: Eigenvectors & Eigenvalues\n",
    "- Eigendecomposition for covariance matrix\n",
    "\n",
    " Step 4: Feature Reduction\n",
    "- Keeps desired, or all, eigenvectors of principal components\n",
    "\n",
    " Step 5: Recast along principal components axes\n",
    "- Reorients or projects the data from original axes along the principal components"
   ]
  },
  {
   "cell_type": "markdown",
   "metadata": {},
   "source": [
    "### Descriptive statistics and linear algebra in PCA - A matrix:\n",
    "\n",
    "- Assume you have a given 5 x 3 matrix with X's as column names and ids as row names.\n",
    "  - Number of rows = 5\n",
    "  - Number of columns = 3\n",
    "\n",
    "$$ A = \\begin{bmatrix}  & X1 & X2 & X3 \\\\ id 1 & 6 & 4 & 4 \\\\ id 2 & 8 & 3 & 3 \\\\ id 3 & 5 & 8 & 4 \\\\ id 4 & 4 & 5 & 10 \\\\ id 5 & 2 & 8 & 5 \\end{bmatrix}$$\n",
    "\n",
    "- To apply the PCA, we need:\n",
    "\n",
    "  - Mean values:\n",
    "\n",
    "  $$ M  = \\begin{bmatrix} \\bar X1  & \\bar X2 & \\bar X3 \\end{bmatrix} = \\begin{bmatrix} 5.0 & 5.6 & 5.2 \\end{bmatrix} $$\n",
    "\n",
    "\n",
    "  - Centering:\n",
    "    - Substract the mean from the data \n",
    "\n",
    "  $$ C = A - M =  \\begin{bmatrix}  & X1 - \\bar X1  & X2 - \\bar X2 & X3 - \\bar X3 \\\\ id 1 & 1  & -1.6 & -1.2 \\\\ id 2 & 3  & -2.6 & -2.2 \\\\ id 3 & 0  & 2.4 & -1.2 \\\\ id 4 & -1  & -0.6 & 4.8 \\\\ id 5 & -3  & 2.4 & -0.2 \\end{bmatrix} $$\n",
    "\n",
    "  - Covariance matrix:\n",
    "\n",
    "  $$ COV = \\begin{bmatrix} & X1 - \\bar X1 & X2 - \\bar X2 & X3 - \\bar X3 \\\\ X1 - \\bar X1 & variance(x_{1}) & cov(x_{1},x_{2}) & cov(x_{1},x_{3}) \\\\ X2 - \\bar X2 & cov(x_{2},x_{1}) & variance(x_{2}) & cov(x_{2},x_{3}) \\\\ X3 - \\bar X3 & cov(x_{3},x_{1}) & cov(x_{3},x_{2}) & variance(x_{3})\\end{bmatrix} = \\begin{bmatrix} & X1 - \\bar X1 & X2 - \\bar X2 & X3 - \\bar X3 \\\\ X1 - \\bar X1 & 5 & -4 & -3 \\\\ X2 - \\bar X2 & -4 & 5.3 & 0.35 \\\\ X3 - \\bar X3 & -3 & 0.35 & 7.7 \\end{bmatrix} $$\n"
   ]
  },
  {
   "cell_type": "code",
   "execution_count": 1,
   "metadata": {},
   "outputs": [
    {
     "name": "stdout",
     "output_type": "stream",
     "text": [
      "Matrix A =  \n",
      " [[ 6  4  4]\n",
      " [ 8  3  3]\n",
      " [ 5  8  4]\n",
      " [ 4  5 10]\n",
      " [ 2  8  5]] \n",
      "\n",
      "Mean values for columns =  \n",
      " [5.  5.6 5.2] \n",
      "\n",
      "Mean centered matrix =  \n",
      " [[ 1.  -1.6 -1.2]\n",
      " [ 3.  -2.6 -2.2]\n",
      " [ 0.   2.4 -1.2]\n",
      " [-1.  -0.6  4.8]\n",
      " [-3.   2.4 -0.2]] \n",
      "\n",
      "Covariance matrix of centered matrix =  \n",
      " [[ 5.   -4.   -3.  ]\n",
      " [-4.    5.3   0.35]\n",
      " [-3.    0.35  7.7 ]] \n",
      "\n"
     ]
    }
   ],
   "source": [
    "import numpy as np\n",
    "# define A matrix\n",
    "A = np.array([[6,4,4], [8,3,3], [5,8,4],[4,5,10],[2,8,5]])\n",
    "print('Matrix A = ','\\n', A,'\\n')\n",
    "\n",
    "# Write code for the above explanation here:\n",
    "\n",
    "# calculate the mean of each column\n",
    "M = np.mean(A.T, axis=1)\n",
    "print('Mean values for columns = ','\\n',M,'\\n')\n",
    "# center columns by subtracting column means\n",
    "C = A - M\n",
    "print('Mean centered matrix = ','\\n',C,'\\n')\n",
    "# calculate covariance matrix of centered matrix\n",
    "COV = np.cov(C.T)\n",
    "print('Covariance matrix of centered matrix = ','\\n',COV,'\\n')"
   ]
  },
  {
   "cell_type": "markdown",
   "metadata": {},
   "source": [
    "### Descriptive statistics and linear algebra in PCA - Eigenvectors and Eigenvalues:\n",
    "\n",
    "- Results for the eigenvalues substracted from covariance matrix determinant gives use the Eigenvalues scalars, each associated with a principal component.\n",
    "\n",
    "$$ | \\begin{bmatrix} 5 - \\lambda & -4 & -3 \\\\ -4 & 5.3 - \\lambda & 0.35 \\\\ -3 & 0.35 & 7.7 - \\lambda \\end{bmatrix} | = 0 $$\n",
    "\n",
    "$$ \\lambda = 0.57998089 $$\n",
    "$$ \\lambda = 11.00784433 $$\n",
    "$$ \\lambda = 6.41217478 $$\n",
    "\n",
    "- With the Eigenvalues we can obtain the eigenvectors.\n",
    "\n",
    "$$ \\begin{bmatrix} 5 - \\lambda & -4 & -3 \\\\ -4 & 5.3 - \\lambda & 0.35 \\\\ -3 & 0.35 & 7.7 - \\lambda \\end{bmatrix} . \\begin{bmatrix} v_{1,1} \\\\ v_{2,1} \\\\v_{3,1} \\end{bmatrix}  = 0 $$\n",
    "\n",
    "- For this equation we iteratively plug in each $\\lambda$ value to obtain the eigenvectors v.\n",
    "\n",
    " For: $\\lambda = 0.57998089 $\n",
    "\n",
    "$$ v_{1} = \\begin{bmatrix} 0.74200331 \\\\ 0.60784646  \\\\ 0.28276099 \\end{bmatrix}$$\n",
    "\n",
    " For: $\\lambda = 11.00784433 $\n",
    "\n",
    "$$ v_{2} = \\begin{bmatrix} 0.62563791 \\\\ -0.47632448  \\\\ -0.61781242 \\end{bmatrix}$$\n",
    "\n",
    " For: $\\lambda = 6.41217478 $\n",
    "\n",
    "$$ v_{3} = \\begin{bmatrix} 0.24084911 \\\\  -0.63532486  \\\\ 0.73372613 \\end{bmatrix}$$\n",
    "\n",
    "- The sum of all eigenvalues can be interpreted as the total variance or Inertia of the principal components\n",
    "$$ TotalVariance(PC) = (\\lambda_{1} + \\lambda_{2} + \\lambda_{3}) = 18\n"
   ]
  },
  {
   "cell_type": "code",
   "execution_count": 2,
   "metadata": {},
   "outputs": [
    {
     "name": "stdout",
     "output_type": "stream",
     "text": [
      "Eigenvalues of covariance matrix =  \n",
      " [ 0.57998089 11.00784433  6.41217478] \n",
      "\n",
      "Eigenvectors of covariance matrix =  \n",
      " [[ 0.74200331  0.62563791  0.24084911]\n",
      " [ 0.60784646 -0.47632448 -0.63532486]\n",
      " [ 0.28276099 -0.61781242  0.73372613]] \n",
      "\n",
      "Variance of the principal components =  \n",
      " 18.000000000000004 \n",
      "\n"
     ]
    }
   ],
   "source": [
    "from numpy.linalg import eig\n",
    "\n",
    "# Write code for the above explanation here:\n",
    "\n",
    "# eigendecomposition of covariance matrix\n",
    "values, vectors = eig(COV)\n",
    "print('Eigenvalues of covariance matrix = ','\\n',values,'\\n')\n",
    "print('Eigenvectors of covariance matrix = ','\\n',vectors,'\\n')\n",
    "\n",
    "#Sum of eigenvalues as total variance of principal components\n",
    "total_inertial=sum(values)\n",
    "print('Variance of the principal components = ','\\n',total_inertial,'\\n')\n"
   ]
  },
  {
   "cell_type": "markdown",
   "metadata": {},
   "source": [
    "### Descriptive statistics and linear algebra in PCA - Feature Reduction:\n",
    "\n",
    "- Usually the goal of PCA is to reduce dimensions. Therefore, we will select the amount of eigenvectors that reduces our initial number of columns. \n",
    "\n",
    "- We started with 3 columns, so lets reduce to 2 columns. To do so, we need to sort the Eigenvalues from highest to lowest, select the 2 highest and keep their associated Eigenvectors.\n",
    "\n",
    " For: $\\lambda_{2} = 11.00784433 $\n",
    "\n",
    "$$ v_{2} = \\begin{bmatrix} 0.62563791 \\\\ -0.47632448  \\\\ -0.61781242 \\end{bmatrix}$$\n",
    "\n",
    " For: $\\lambda_{3} = 6.41217478 $\n",
    "\n",
    "$$ v_{3}= \\begin{bmatrix} 0.24084911 \\\\  -0.63532486  \\\\ 0.73372613 \\end{bmatrix}$$\n",
    "\n",
    "- The Ratio of variance explained by each principal component can be see as each individual eingenvalue selected over the total variance.\n",
    "\n",
    "    $$ \\frac{[11.00784433 , 6.41217478]}{18} = [0.61154691, 0.35623193] $$\n",
    "\n",
    "- The total variance % captured by the dimensionality reduction is the sum of the rations times 100.\n",
    "\n",
    "     $$ (0.61154691 + 0.35623193)*100   = 96.77  $$"
   ]
  },
  {
   "cell_type": "code",
   "execution_count": 3,
   "metadata": {},
   "outputs": [
    {
     "name": "stdout",
     "output_type": "stream",
     "text": [
      "Reduced eigenvalues of covariance matrix =  \n",
      " [11.00784433  6.41217478] \n",
      "\n",
      "Reduced eigenvectors of covariance matrix =  \n",
      " [[ 0.62563791  0.24084911]\n",
      " [-0.47632448 -0.63532486]\n",
      " [-0.61781242  0.73372613]] \n",
      "\n",
      "Ratio of variance explained by the 2 components =  \n",
      " [0.61154691 0.35623193] \n",
      "\n",
      "Total variance captured by the 2 components =  \n",
      " 0.9677788392498041 \n",
      "\n"
     ]
    }
   ],
   "source": [
    "# Write code for the above explanation here:\n",
    "\n",
    "# keep 2 highest values\n",
    "reduced_values=values[1:3]\n",
    "\n",
    "#Removes first column\n",
    "reduced_vectors=np.delete(vectors, 0, 1)\n",
    "\n",
    "print('Reduced eigenvalues of covariance matrix = ','\\n',reduced_values,'\\n')\n",
    "print('Reduced eigenvectors of covariance matrix = ','\\n',reduced_vectors,'\\n')\n",
    "\n",
    "# Ration of variance explained by each principal component\n",
    "explained_variance=reduced_values/total_inertial\n",
    "print('Ratio of variance explained by the 2 components = ','\\n',explained_variance,'\\n')\n",
    "\n",
    "# Total variance captured in 2 PC's\n",
    "print('Total variance captured by the 2 components = ','\\n',sum(explained_variance),'\\n')"
   ]
  },
  {
   "cell_type": "markdown",
   "metadata": {},
   "source": [
    "### Descriptive statistics and linear algebra in PCA - trasnformed data, loadings, and reconstruction:\n",
    "\n",
    "- To project the data into the principal components, we need to dot multiply the centered data with the reduced eigenvector matrix.\n",
    "\n",
    "    $$ C.[v_{2},v_{3}] = ProjectedData $$\n",
    "\n",
    "    $$ \\begin{bmatrix} 1  & -1.6 & -1.2 \\\\ 3  & -2.6 & -2.2 \\\\ 0  & 2.4 & -1.2 \\\\ -1  & -0.6 & 4.8 \\\\ -3  & 2.4 & -0.2 \\end{bmatrix} . \\begin{bmatrix} 0.62563791 & 0.24084911 \\\\ -0.47632448 & -0.63532486 \\\\ -0.61781242 & 0.73372613 \\end{bmatrix} = \\begin{bmatrix} 2.129132 & 0.376898 \\\\ 4.474545 & 0.760194 \\\\ -0.401804\t& -2.405251 \\\\ -3.305343 & 3.662231 \\\\-2.896530\t& -2.394072 \\end{bmatrix} $$\n",
    "\n",
    " - To know the contribution of the original variables to the projected data, we calculate loadings as the reduced eigenvector matrix times the squared root of the Eigenvalues.\n",
    "\n",
    "    $$ [v_{2},v_{3}] * [\\sqrt \\lambda_{2},\\sqrt \\lambda_{3}] = Loadings $$\n",
    "\n",
    "    $$ \\begin{bmatrix} 0.62563791 & 0.24084911 \\\\ -0.47632448 & -0.63532486 \\\\ -0.61781242 & 0.73372613 \\end{bmatrix} . \\begin{bmatrix} \\sqrt 11.00784433 & \\sqrt 6.41217478 \\end{bmatrix} = \\begin{bmatrix} 2.07574595 & 0.60988467 \\\\ -1.58035278 & -1.6087869  \\\\ -2.04978247 & 1.85796129 \\end{bmatrix} $$   \n",
    "\n",
    "- We could reconstruct back the original data using the transpose of all Eigenvectors dot multiplied by the completed projected data and adding the average to that result.\n",
    "\n",
    "   $$ (v.ProjectedData)^T + M = OriginalData $$\n",
    "   $$ \\begin{bmatrix} 1  & -1.6 & -1.2 \\\\ 3  & -2.6 & -2.2 \\\\ 0  & 2.4 & -1.2 \\\\ -1  & -0.6 & 4.8 \\\\ -3  & 2.4 & -0.2 \\end{bmatrix} + \\begin{bmatrix} 5 & 5.6 & 5.2 \\end{bmatrix} = \\begin{bmatrix}  6 & 4 & 4 \\\\ 8 & 3 & 3 \\\\  5 & 8 & 4 \\\\  4 & 5 & 10 \\\\  2 & 8 & 5 \\end{bmatrix} $$\n"
   ]
  },
  {
   "cell_type": "code",
   "execution_count": 4,
   "metadata": {},
   "outputs": [
    {
     "name": "stdout",
     "output_type": "stream",
     "text": [
      "Data projected to principal components=  \n",
      " [[ 2.12913199  0.37689752]\n",
      " [ 4.47454472  0.76019446]\n",
      " [-0.40180386 -2.40525101]\n",
      " [-3.30534284  3.66223124]\n",
      " [-2.89653002 -2.3940722 ]] \n",
      "\n",
      "Direction of variance scaled to principal components=  \n",
      " [[ 2.07574595  0.60988467]\n",
      " [-1.58035278 -1.6087869 ]\n",
      " [-2.04978247  1.85796129]] \n",
      "\n",
      "Reconstruction of original data using all PC=  \n",
      " [[ 6.  4.  4.]\n",
      " [ 8.  3.  3.]\n",
      " [ 5.  8.  4.]\n",
      " [ 4.  5. 10.]\n",
      " [ 2.  8.  5.]] \n",
      "\n"
     ]
    }
   ],
   "source": [
    "# Write code for the above explanation here:\n",
    "\n",
    "# projected data\n",
    "projected_data = C.dot(reduced_vectors)\n",
    "print('Data projected to principal components= ','\\n',projected_data,'\\n')\n",
    "\n",
    "# loading data\n",
    "loadings=reduced_vectors*np.sqrt(reduced_values)\n",
    "print('Direction of variance scaled to principal components= ','\\n',loadings,'\\n')\n",
    "\n",
    "# projected data with all components\n",
    "projected_data_complete = vectors.T.dot(C.T)\n",
    "\n",
    "# reconstructed data\n",
    "original_recreated_data=(vectors.dot(projected_data_complete)).T + M\n",
    "print('Reconstruction of original data using all PC= ','\\n',original_recreated_data,'\\n')\n"
   ]
  },
  {
   "cell_type": "markdown",
   "metadata": {},
   "source": [
    "### Main takeaway and summary:\n",
    "\n",
    "- Think of PCA as a way to reduce variables while keeping most of their variation information. \n",
    "\n",
    "- Think of the principal components as variables with charasteristics from the original variables.\n",
    "\n",
    "- When you plot PC's, you select the 2 most explanatory first as new axes. \n",
    "\n",
    "- With these new axes, you can describe correlations between original variables.\n",
    "\n",
    "- The plot shows the similarities and differences between observations and explains them in terms of which variables are characterizing them most."
   ]
  },
  {
   "cell_type": "markdown",
   "metadata": {},
   "source": [
    "Now that we undestand a bit better PCA, lets use the sklearn function to solve the same exercise previously explained. \n",
    "More information about the library [here](https://scikit-learn.org/stable/modules/generated/sklearn.decomposition.PCA.html)\n"
   ]
  },
  {
   "cell_type": "code",
   "execution_count": 5,
   "metadata": {},
   "outputs": [
    {
     "name": "stdout",
     "output_type": "stream",
     "text": [
      "Explained variation per principal component: [0.61154691 0.35623193]\n",
      "Total variation captured:  0.9677788392498042\n"
     ]
    },
    {
     "data": {
      "text/html": [
       "<div>\n",
       "<style scoped>\n",
       "    .dataframe tbody tr th:only-of-type {\n",
       "        vertical-align: middle;\n",
       "    }\n",
       "\n",
       "    .dataframe tbody tr th {\n",
       "        vertical-align: top;\n",
       "    }\n",
       "\n",
       "    .dataframe thead th {\n",
       "        text-align: right;\n",
       "    }\n",
       "</style>\n",
       "<table border=\"1\" class=\"dataframe\">\n",
       "  <thead>\n",
       "    <tr style=\"text-align: right;\">\n",
       "      <th></th>\n",
       "      <th>X1</th>\n",
       "      <th>X2</th>\n",
       "      <th>X3</th>\n",
       "    </tr>\n",
       "  </thead>\n",
       "  <tbody>\n",
       "    <tr>\n",
       "      <th>id1</th>\n",
       "      <td>6</td>\n",
       "      <td>4</td>\n",
       "      <td>4</td>\n",
       "    </tr>\n",
       "    <tr>\n",
       "      <th>id2</th>\n",
       "      <td>8</td>\n",
       "      <td>3</td>\n",
       "      <td>3</td>\n",
       "    </tr>\n",
       "    <tr>\n",
       "      <th>id3</th>\n",
       "      <td>5</td>\n",
       "      <td>8</td>\n",
       "      <td>4</td>\n",
       "    </tr>\n",
       "    <tr>\n",
       "      <th>id4</th>\n",
       "      <td>4</td>\n",
       "      <td>5</td>\n",
       "      <td>10</td>\n",
       "    </tr>\n",
       "    <tr>\n",
       "      <th>id5</th>\n",
       "      <td>2</td>\n",
       "      <td>8</td>\n",
       "      <td>5</td>\n",
       "    </tr>\n",
       "  </tbody>\n",
       "</table>\n",
       "</div>"
      ],
      "text/plain": [
       "     X1  X2  X3\n",
       "id1   6   4   4\n",
       "id2   8   3   3\n",
       "id3   5   8   4\n",
       "id4   4   5  10\n",
       "id5   2   8   5"
      ]
     },
     "execution_count": 5,
     "metadata": {},
     "output_type": "execute_result"
    },
    {
     "data": {
      "image/png": "[encoded data removed]",
      "text/plain": [
       "<Figure size 1152x864 with 1 Axes>"
      ]
     },
     "metadata": {},
     "output_type": "display_data"
    }
   ],
   "source": [
    "from sklearn.decomposition import PCA\n",
    "import matplotlib.pyplot as plt\n",
    "import pandas as pd\n",
    "from Vars_Samples_Plot import vars_samples_plot\n",
    "\n",
    "# Desired number of components or % of variance\n",
    "components=2\n",
    "\n",
    "# PCA\n",
    "pca = PCA(n_components=components)\n",
    "principalComponents= pca.fit_transform(A)\n",
    "\n",
    "# Data frame for PCA\n",
    "pca_df = pd.DataFrame(data = principalComponents,\n",
    " columns=[\"principal component \" + str(i) for i in list(range(1,pca.n_components_+1))],\n",
    " index=['id1','id2','id3','id4','id5'])\n",
    "\n",
    "# Calculating and data frame for loadings\n",
    "loading_df= pd.DataFrame(pca.components_.T * np.sqrt(pca.explained_variance_),\n",
    " columns=[\"principal component \" + str(i) for i in list(range(1,pca.n_components_+1))],\n",
    " index=['X1','X2','X3'])\n",
    "\n",
    "# Explained variance for each component\n",
    "print('Explained variation per principal component: {}'.format(pca.explained_variance_ratio_))\n",
    "# Total variance camptured after transformation\n",
    "print('Total variation captured: ', pca.explained_variance_ratio_.sum())\n",
    "\n",
    "# Visual\n",
    "vars_samples_plot(ProjectedData = pca_df ,Loadings = loading_df ,ExplainedVar = list(pca.explained_variance_ratio_), Overlaid = True)\n",
    "\n",
    "# Original data for plot insight\n",
    "pd.DataFrame(A,columns=[\"X1\",\"X2\",\"X3\"],\n",
    " index=['id1','id2','id3','id4','id5'])"
   ]
  }
 ],
 "metadata": {
  "kernelspec": {
   "display_name": "Python 3.8.3 ('base')",
   "language": "python",
   "name": "python3"
  },
  "language_info": {
   "codemirror_mode": {
    "name": "ipython",
    "version": 3
   },
   "file_extension": ".py",
   "mimetype": "text/x-python",
   "name": "python",
   "nbconvert_exporter": "python",
   "pygments_lexer": "ipython3",
   "version": "3.8.3"
  },
  "orig_nbformat": 4,
  "vscode": {
   "interpreter": {
    "hash": "caf47b04aaaa0fe624adbdbda6218dbf7d5d72a64bab0a2f3916f01d16da7e27"
   }
  }
 },
 "nbformat": 4,
 "nbformat_minor": 2
}
